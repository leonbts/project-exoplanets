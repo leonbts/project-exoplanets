{
 "cells": [
  {
   "cell_type": "code",
   "execution_count": 7,
   "id": "c41f0d4d",
   "metadata": {},
   "outputs": [
    {
     "name": "stdout",
     "output_type": "stream",
     "text": [
      "Star systems summary CSV created!\n",
      "         hostname    sy_dist  total_planets  st_teff  st_rad  st_mass  \\\n",
      "0          AU Mic    9.72210              2   3678.0   0.744    0.510   \n",
      "1    BD-14 3065 A  589.42300              1   6935.0   2.350    1.410   \n",
      "2  Barnard's star    1.82655              1   3195.0   0.185    0.162   \n",
      "3          CD Cet    8.60715              1   3130.0   0.175    0.161   \n",
      "4        CoRoT-32  576.68300              1   5970.0   0.790    1.080   \n",
      "\n",
      "   potentially_habitable  \n",
      "0                      0  \n",
      "1                      0  \n",
      "2                      0  \n",
      "3                      0  \n",
      "4                      0  \n"
     ]
    }
   ],
   "source": [
    "import pandas as pd\n",
    "import numpy as np\n",
    "\n",
    "# Load your original exoplanets CSV\n",
    "df = pd.read_csv('../output/exoplanets.csv')\n",
    "\n",
    "# Clean columns and convert to numeric as needed\n",
    "for col in ['pl_rade', 'pl_eqt', 'pl_insol']:\n",
    "    df[col] = pd.to_numeric(df[col], errors='coerce')\n",
    "\n",
    "# Define habitability score function\n",
    "def habitability_score(row):\n",
    "    try:\n",
    "        # Normalized differences with clamping\n",
    "        radius_score = 0.3 * (1 - min(1, abs(row['pl_rade'] - 1) / 10))\n",
    "        temp_score   = 0.4 * (1 - min(1, abs(row['pl_eqt'] - 288) / 88))\n",
    "        insol_score  = 0.3 * (1 - min(1, abs(row['pl_insol'] - 1) / 2))\n",
    "\n",
    "        score = (radius_score + temp_score + insol_score)\n",
    "        return round(score, 3)\n",
    "    except:\n",
    "        return np.nan\n",
    "\n",
    "# Apply habitability score\n",
    "df['hab_score'] = df.apply(habitability_score, axis=1)\n",
    "\n",
    "# Define potentially habitable flag (e.g., hab_score >= 0.7)\n",
    "df['potentially_habitable'] = df['hab_score'].apply(\n",
    "    lambda x: 1 if x >= 0.7 else 0\n",
    ")\n",
    "\n",
    "# Aggregate per star system\n",
    "agg_df = df.groupby('hostname').agg(\n",
    "    sy_dist = ('sy_dist', 'min'),             # Closest distance to Earth in parsecs\n",
    "    total_planets = ('pl_name', 'count'),     # Number of planets in system\n",
    "    st_teff = ('st_teff', 'min'),\n",
    "    st_rad = ('st_rad', 'min'),\n",
    "    st_mass = ('st_mass', 'min'),\n",
    "    potentially_habitable = ('potentially_habitable', 'max')  # 1 if any planet is habitable\n",
    ").reset_index()\n",
    "\n",
    "# Save to CSV for JS visualization\n",
    "agg_df.to_csv('stars.csv', index=False)\n",
    "\n",
    "print(\"Star systems summary CSV created!\")\n",
    "print(agg_df.head())"
   ]
  }
 ],
 "metadata": {
  "kernelspec": {
   "display_name": ".venv",
   "language": "python",
   "name": "python3"
  },
  "language_info": {
   "codemirror_mode": {
    "name": "ipython",
    "version": 3
   },
   "file_extension": ".py",
   "mimetype": "text/x-python",
   "name": "python",
   "nbconvert_exporter": "python",
   "pygments_lexer": "ipython3",
   "version": "3.13.3"
  }
 },
 "nbformat": 4,
 "nbformat_minor": 5
}
